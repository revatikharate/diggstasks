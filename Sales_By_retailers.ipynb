{
 "cells": [
  {
   "cell_type": "code",
   "execution_count": 11,
   "id": "5d01790e",
   "metadata": {},
   "outputs": [
    {
     "name": "stdout",
     "output_type": "stream",
     "text": [
      "[{'id': 78808, 'createdDate': '2023-01-31T23:57:15Z', 'projectName': 'Shopify Diggs', 'total': 204.24}, {'id': 78809, 'createdDate': '2023-01-31T23:56:06Z', 'projectName': 'Shopify Diggs', 'total': 836.9}, {'id': 78815, 'createdDate': '2023-01-31T23:48:27Z', 'projectName': 'Amazon Seller Diggs', 'total': 195.0}, {'id': 78807, 'createdDate': '2023-01-31T23:46:24Z', 'projectName': 'Shopify Diggs', 'total': 464.65}, {'id': 78806, 'createdDate': '2023-01-31T23:34:35Z', 'projectName': 'Shopify Diggs', 'total': 44.13}, {'id': 78805, 'createdDate': '2023-01-31T23:26:20Z', 'projectName': 'Shopify Diggs', 'total': 32.04}, {'id': 78803, 'createdDate': '2023-01-31T23:21:33Z', 'projectName': 'Shopify Diggs', 'total': 485.1}, {'id': 78802, 'createdDate': '2023-01-31T23:18:04Z', 'projectName': 'Shopify Diggs', 'total': 624.35}, {'id': 78801, 'createdDate': '2023-01-31T22:55:57Z', 'projectName': 'Shopify Diggs', 'total': 107.21}, {'id': 78800, 'createdDate': '2023-01-31T22:53:18Z', 'projectName': 'Shopify Diggs', 'total': 167.44}, {'id': 78798, 'createdDate': '2023-01-31T22:42:52Z', 'projectName': 'Shopify Diggs', 'total': 136.96}, {'id': 78799, 'createdDate': '2023-01-31T22:39:12Z', 'projectName': 'Shopify Diggs', 'total': 825.78}, {'id': 78797, 'createdDate': '2023-01-31T22:19:23Z', 'projectName': 'Shopify Diggs', 'total': 245.25}, {'id': 78796, 'createdDate': '2023-01-31T21:55:15Z', 'projectName': 'Shopify Diggs', 'total': 938.99}, {'id': 78804, 'createdDate': '2023-01-31T21:50:09Z', 'projectName': 'Amazon Seller Diggs', 'total': 195.0}, {'id': 78794, 'createdDate': '2023-01-31T21:41:52Z', 'projectName': 'Shopify Diggs', 'total': 0.0}, {'id': 78795, 'createdDate': '2023-01-31T21:38:09Z', 'projectName': 'Shopify Diggs', 'total': 6.42}, {'id': 78792, 'createdDate': '2023-01-31T21:34:59Z', 'projectName': 'Shopify Diggs', 'total': 32.93}, {'id': 78793, 'createdDate': '2023-01-31T21:32:46Z', 'projectName': 'Shopify Diggs', 'total': 639.38}, {'id': 78790, 'createdDate': '2023-01-31T21:31:16Z', 'projectName': 'Shopify Diggs', 'total': 842.77}, {'id': 78785, 'createdDate': '2023-01-31T21:28:10Z', 'projectName': 'Shopify Diggs', 'total': 70.61}, {'id': 78784, 'createdDate': '2023-01-31T21:28:10Z', 'projectName': 'Shopify Diggs', 'total': 141.2}, {'id': 78791, 'createdDate': '2023-01-31T21:27:10Z', 'projectName': 'Shopify Diggs', 'total': 31.29}, {'id': 78783, 'createdDate': '2023-01-31T21:24:57Z', 'projectName': 'Shopify Diggs', 'total': 70.61}, {'id': 78786, 'createdDate': '2023-01-31T21:23:18Z', 'projectName': 'Shopify Diggs', 'total': 65.7}, {'id': 78781, 'createdDate': '2023-01-31T21:06:17Z', 'projectName': 'Shopify Diggs', 'total': 411.35}, {'id': 78782, 'createdDate': '2023-01-31T21:03:01Z', 'projectName': 'Shopify Diggs', 'total': 938.99}, {'id': 78777, 'createdDate': '2023-01-31T21:02:43Z', 'projectName': 'Shopify Diggs', 'total': 0.0}, {'id': 78778, 'createdDate': '2023-01-31T20:57:48Z', 'projectName': 'Shopify Diggs', 'total': 315.13}, {'id': 78779, 'createdDate': '2023-01-31T20:57:09Z', 'projectName': 'Shopify Diggs', 'total': 0.0}, {'id': 78780, 'createdDate': '2023-01-31T20:57:08Z', 'projectName': 'Shopify Diggs', 'total': 0.0}, {'id': 78775, 'createdDate': '2023-01-31T20:54:03Z', 'projectName': 'Shopify Diggs', 'total': 508.44}, {'id': 78776, 'createdDate': '2023-01-31T20:50:57Z', 'projectName': 'Shopify Diggs', 'total': 842.77}, {'id': 78774, 'createdDate': '2023-01-31T20:44:29Z', 'projectName': 'Shopify Diggs', 'total': 629.5}, {'id': 78773, 'createdDate': '2023-01-31T20:41:09Z', 'projectName': 'Shopify Diggs', 'total': 590.39}, {'id': 78772, 'createdDate': '2023-01-31T20:35:19Z', 'projectName': 'Shopify Diggs', 'total': 476.22}, {'id': 78771, 'createdDate': '2023-01-31T20:33:27Z', 'projectName': 'Shopify Diggs', 'total': 0.0}, {'id': 78770, 'createdDate': '2023-01-31T20:33:18Z', 'projectName': 'Shopify Diggs', 'total': 0.0}, {'id': 78769, 'createdDate': '2023-01-31T20:33:10Z', 'projectName': 'Shopify Diggs', 'total': 0.0}, {'id': 78768, 'createdDate': '2023-01-31T20:32:57Z', 'projectName': 'Shopify Diggs', 'total': 0.0}, {'id': 78767, 'createdDate': '2023-01-31T20:26:00Z', 'projectName': 'Influencers', 'total': 0.0}, {'id': 78764, 'createdDate': '2023-01-31T20:24:00Z', 'projectName': 'Influencers', 'total': 0.0}, {'id': 78765, 'createdDate': '2023-01-31T20:23:03Z', 'projectName': 'Shopify Diggs', 'total': 653.07}, {'id': 78766, 'createdDate': '2023-01-31T20:22:12Z', 'projectName': 'Shopify Diggs', 'total': 47.41}, {'id': 78763, 'createdDate': '2023-01-31T20:19:00Z', 'projectName': 'Influencers', 'total': 12.0}, {'id': 78759, 'createdDate': '2023-01-31T19:52:34Z', 'projectName': 'Shopify Diggs', 'total': 54.02}, {'id': 78754, 'createdDate': '2023-01-31T19:42:22Z', 'projectName': 'Shopify Diggs', 'total': 9.85}, {'id': 78755, 'createdDate': '2023-01-31T19:38:25Z', 'projectName': 'Shopify Diggs', 'total': 82.68}, {'id': 78752, 'createdDate': '2023-01-31T19:31:54Z', 'projectName': 'Shopify Diggs', 'total': 94.91}, {'id': 78750, 'createdDate': '2023-01-31T19:30:10Z', 'projectName': 'Shopify Diggs', 'total': 348.62}, {'id': 78751, 'createdDate': '2023-01-31T19:28:53Z', 'projectName': 'Shopify Diggs', 'total': 476.12}, {'id': 78748, 'createdDate': '2023-01-31T19:24:04Z', 'projectName': 'Shopify Diggs', 'total': 6.36}, {'id': 78747, 'createdDate': '2023-01-31T19:23:00Z', 'projectName': 'Influencers', 'total': 0.0}, {'id': 78749, 'createdDate': '2023-01-31T19:21:33Z', 'projectName': 'Shopify Diggs', 'total': 504.88}, {'id': 78746, 'createdDate': '2023-01-31T19:18:00Z', 'projectName': 'Influencers', 'total': -260.0}, {'id': 78745, 'createdDate': '2023-01-31T19:14:00Z', 'projectName': 'Influencers', 'total': 0.0}, {'id': 78744, 'createdDate': '2023-01-31T19:09:00Z', 'projectName': 'Influencers', 'total': 0.0}, {'id': 78741, 'createdDate': '2023-01-31T18:56:00Z', 'projectName': 'Influencers', 'total': 0.0}, {'id': 78738, 'createdDate': '2023-01-31T18:55:52Z', 'projectName': 'Shopify Diggs', 'total': 6.61}, {'id': 78739, 'createdDate': '2023-01-31T18:51:41Z', 'projectName': 'Shopify Diggs', 'total': 64.68}, {'id': 78740, 'createdDate': '2023-01-31T18:50:37Z', 'projectName': 'Shopify Diggs', 'total': 113.72}, {'id': 78737, 'createdDate': '2023-01-31T18:47:21Z', 'projectName': 'Shopify Diggs', 'total': 381.18}, {'id': 78736, 'createdDate': '2023-01-31T18:35:00Z', 'projectName': 'Shopify Diggs', 'total': 679.73}, {'id': 78735, 'createdDate': '2023-01-31T18:25:05Z', 'projectName': 'Shopify Diggs', 'total': 148.85}, {'id': 78733, 'createdDate': '2023-01-31T18:17:16Z', 'projectName': 'Shopify Diggs', 'total': 364.5}, {'id': 78732, 'createdDate': '2023-01-31T18:17:16Z', 'projectName': 'Shopify Diggs', 'total': 473.36}, {'id': 78734, 'createdDate': '2023-01-31T18:16:44Z', 'projectName': 'Shopify Diggs', 'total': 361.13}, {'id': 78731, 'createdDate': '2023-01-31T18:13:38Z', 'projectName': 'Shopify Diggs', 'total': 108.86}, {'id': 78728, 'createdDate': '2023-01-31T17:43:18Z', 'projectName': 'Shopify Diggs', 'total': 32.44}, {'id': 78729, 'createdDate': '2023-01-31T17:40:47Z', 'projectName': 'Shopify Diggs', 'total': 592.09}, {'id': 78727, 'createdDate': '2023-01-31T17:25:53Z', 'projectName': 'Shopify Diggs', 'total': 146.65}, {'id': 78725, 'createdDate': '2023-01-31T17:03:44Z', 'projectName': 'Shopify Diggs', 'total': 95.15}, {'id': 78724, 'createdDate': '2023-01-31T17:03:00Z', 'projectName': 'Shopify Diggs', 'total': 110.5}, {'id': 78726, 'createdDate': '2023-01-31T17:01:30Z', 'projectName': 'Shopify Diggs', 'total': 164.73}, {'id': 78723, 'createdDate': '2023-01-31T17:00:16Z', 'projectName': 'Shopify Diggs', 'total': 219.3}, {'id': 78722, 'createdDate': '2023-01-31T17:00:15Z', 'projectName': 'Shopify Diggs', 'total': 793.05}, {'id': 78720, 'createdDate': '2023-01-31T16:55:00Z', 'projectName': 'Shopify Diggs', 'total': 54.49}, {'id': 78721, 'createdDate': '2023-01-31T16:54:06Z', 'projectName': 'Shopify Diggs', 'total': 573.75}, {'id': 78719, 'createdDate': '2023-01-31T16:31:31Z', 'projectName': 'Shopify Diggs', 'total': 541.87}, {'id': 78717, 'createdDate': '2023-01-31T15:51:26Z', 'projectName': 'Shopify Diggs', 'total': 57.73}, {'id': 78716, 'createdDate': '2023-01-31T15:46:57Z', 'projectName': 'Shopify Diggs', 'total': 319.19}, {'id': 78714, 'createdDate': '2023-01-31T15:26:37Z', 'projectName': 'Shopify Diggs', 'total': 55.0}, {'id': 78718, 'createdDate': '2023-01-31T15:26:00Z', 'projectName': 'Shopify Diggs', 'total': 130.0}, {'id': 78715, 'createdDate': '2023-01-31T15:25:50Z', 'projectName': 'Shopify Diggs', 'total': 46.07}, {'id': 78713, 'createdDate': '2023-01-31T15:20:17Z', 'projectName': 'Shopify Diggs', 'total': 339.87}, {'id': 78712, 'createdDate': '2023-01-31T15:10:00Z', 'projectName': 'Shopify Diggs', 'total': 22.26}, {'id': 78711, 'createdDate': '2023-01-31T15:09:26Z', 'projectName': 'Shopify Diggs', 'total': 119.34}, {'id': 78710, 'createdDate': '2023-01-31T15:09:26Z', 'projectName': 'Shopify Diggs', 'total': 764.71}, {'id': 78708, 'createdDate': '2023-01-31T15:05:30Z', 'projectName': 'Shopify Diggs', 'total': 86.92}, {'id': 78709, 'createdDate': '2023-01-31T15:04:43Z', 'projectName': 'Shopify Diggs', 'total': 645.35}, {'id': 78706, 'createdDate': '2023-01-31T14:42:47Z', 'projectName': 'Shopify Diggs', 'total': 56.43}, {'id': 78704, 'createdDate': '2023-01-31T14:31:00Z', 'projectName': 'Shopify Diggs', 'total': 0.0}, {'id': 78705, 'createdDate': '2023-01-31T14:28:16Z', 'projectName': 'Shopify Diggs', 'total': 54.9}, {'id': 78702, 'createdDate': '2023-01-31T14:04:11Z', 'projectName': 'Shopify Diggs', 'total': 395.63}, {'id': 78701, 'createdDate': '2023-01-31T13:51:45Z', 'projectName': 'Shopify Diggs', 'total': 99.64}, {'id': 78699, 'createdDate': '2023-01-31T13:34:14Z', 'projectName': 'Shopify Diggs', 'total': 825.0}, {'id': 78700, 'createdDate': '2023-01-31T13:34:07Z', 'projectName': 'Shopify Diggs', 'total': 36.38}, {'id': 78698, 'createdDate': '2023-01-31T13:13:48Z', 'projectName': 'Shopify Diggs', 'total': 687.61}, {'id': 78697, 'createdDate': '2023-01-31T12:59:36Z', 'projectName': 'Shopify Diggs', 'total': 160.27}, {'id': 78696, 'createdDate': '2023-01-31T12:49:11Z', 'projectName': 'Shopify Diggs', 'total': 59.0}, {'id': 78695, 'createdDate': '2023-01-31T12:37:19Z', 'projectName': 'Shopify Diggs', 'total': 31.9}, {'id': 78694, 'createdDate': '2023-01-31T12:26:37Z', 'projectName': 'Shopify Diggs', 'total': 86.92}, {'id': 78693, 'createdDate': '2023-01-31T12:21:14Z', 'projectName': 'Shopify Diggs', 'total': 31.89}, {'id': 78692, 'createdDate': '2023-01-31T10:20:13Z', 'projectName': 'Shopify Diggs', 'total': 498.94}, {'id': 78691, 'createdDate': '2023-01-31T09:55:02Z', 'projectName': 'Shopify Diggs', 'total': 43.01}, {'id': 78689, 'createdDate': '2023-01-31T09:23:51Z', 'projectName': 'Shopify Diggs', 'total': 147.66}, {'id': 78690, 'createdDate': '2023-01-31T09:21:38Z', 'projectName': 'Shopify Diggs', 'total': 943.48}, {'id': 78687, 'createdDate': '2023-01-31T06:54:23Z', 'projectName': 'Shopify Diggs', 'total': 87.9}, {'id': 78688, 'createdDate': '2023-01-31T06:52:07Z', 'projectName': 'Shopify Diggs', 'total': 365.35}, {'id': 78685, 'createdDate': '2023-01-31T05:13:00Z', 'projectName': 'Shopify Diggs', 'total': 23.91}, {'id': 78686, 'createdDate': '2023-01-31T05:06:03Z', 'projectName': 'Shopify Diggs', 'total': 440.13}, {'id': 78730, 'createdDate': '2023-01-31T05:00:00Z', 'projectName': 'DSCO', 'total': 381.72}, {'id': 78683, 'createdDate': '2023-01-31T04:55:50Z', 'projectName': 'Shopify Diggs', 'total': 58.79}, {'id': 78684, 'createdDate': '2023-01-31T04:54:23Z', 'projectName': 'Shopify Diggs', 'total': 567.9}, {'id': 78682, 'createdDate': '2023-01-31T04:40:00Z', 'projectName': 'Shopify Diggs', 'total': 675.0}, {'id': 78681, 'createdDate': '2023-01-31T04:25:57Z', 'projectName': 'Shopify Diggs', 'total': 342.96}, {'id': 78703, 'createdDate': '2023-01-31T04:25:00Z', 'projectName': 'Shopify Diggs', 'total': 67.25}, {'id': 78679, 'createdDate': '2023-01-31T04:00:02Z', 'projectName': 'Shopify Diggs', 'total': 856.51}, {'id': 78680, 'createdDate': '2023-01-31T03:59:46Z', 'projectName': 'Shopify Diggs', 'total': 39.6}, {'id': 78678, 'createdDate': '2023-01-31T03:51:28Z', 'projectName': 'Shopify Diggs', 'total': 36.23}, {'id': 78677, 'createdDate': '2023-01-31T03:48:15Z', 'projectName': 'Shopify Diggs', 'total': 125.71}, {'id': 78676, 'createdDate': '2023-01-31T03:48:15Z', 'projectName': 'Shopify Diggs', 'total': 782.63}, {'id': 78674, 'createdDate': '2023-01-31T03:41:13Z', 'projectName': 'Shopify Diggs', 'total': 628.0}, {'id': 78675, 'createdDate': '2023-01-31T03:36:50Z', 'projectName': 'Shopify Diggs', 'total': 608.29}, {'id': 78672, 'createdDate': '2023-01-31T03:08:40Z', 'projectName': 'Shopify Diggs', 'total': 57.24}, {'id': 78673, 'createdDate': '2023-01-31T03:07:00Z', 'projectName': 'Shopify Diggs', 'total': 57.16}, {'id': 78671, 'createdDate': '2023-01-31T03:02:41Z', 'projectName': 'Shopify Diggs', 'total': 56.59}, {'id': 78670, 'createdDate': '2023-01-31T03:00:12Z', 'projectName': 'Shopify Diggs', 'total': 318.75}, {'id': 78669, 'createdDate': '2023-01-31T02:53:12Z', 'projectName': 'Shopify Diggs', 'total': 159.38}, {'id': 78668, 'createdDate': '2023-01-31T02:51:06Z', 'projectName': 'Shopify Diggs', 'total': 607.5}, {'id': 78667, 'createdDate': '2023-01-31T02:51:06Z', 'projectName': 'Shopify Diggs', 'total': 789.65}, {'id': 78666, 'createdDate': '2023-01-31T02:47:33Z', 'projectName': 'Shopify Diggs', 'total': 135.0}, {'id': 78664, 'createdDate': '2023-01-31T02:27:54Z', 'projectName': 'Shopify Diggs', 'total': 572.63}, {'id': 78665, 'createdDate': '2023-01-31T02:27:13Z', 'projectName': 'Shopify Diggs', 'total': 462.78}, {'id': 78663, 'createdDate': '2023-01-31T02:11:58Z', 'projectName': 'Shopify Diggs', 'total': 535.5}, {'id': 78662, 'createdDate': '2023-01-31T02:02:03Z', 'projectName': 'Shopify Diggs', 'total': 160.13}, {'id': 78656, 'createdDate': '2023-01-31T01:49:34Z', 'projectName': 'Shopify Diggs', 'total': 20.4}, {'id': 78654, 'createdDate': '2023-01-31T01:46:58Z', 'projectName': 'Shopify Diggs', 'total': 57.7}, {'id': 78655, 'createdDate': '2023-01-31T01:42:19Z', 'projectName': 'Shopify Diggs', 'total': 43.63}, {'id': 78652, 'createdDate': '2023-01-31T01:27:14Z', 'projectName': 'Shopify Diggs', 'total': 505.75}, {'id': 78651, 'createdDate': '2023-01-31T01:27:14Z', 'projectName': 'Shopify Diggs', 'total': 695.3}, {'id': 78649, 'createdDate': '2023-01-31T01:23:05Z', 'projectName': 'Shopify Diggs', 'total': 423.79}, {'id': 78650, 'createdDate': '2023-01-31T01:21:26Z', 'projectName': 'Shopify Diggs', 'total': 79.05}, {'id': 78648, 'createdDate': '2023-01-31T01:12:15Z', 'projectName': 'Shopify Diggs', 'total': 581.69}, {'id': 78647, 'createdDate': '2023-01-31T01:09:34Z', 'projectName': 'Shopify Diggs', 'total': 265.0}, {'id': 78645, 'createdDate': '2023-01-31T01:03:05Z', 'projectName': 'Shopify Diggs', 'total': 361.19}, {'id': 78646, 'createdDate': '2023-01-31T01:03:00Z', 'projectName': 'Shopify Diggs', 'total': 45.0}, {'id': 78644, 'createdDate': '2023-01-31T00:58:05Z', 'projectName': 'Shopify Diggs', 'total': 284.85}, {'id': 78643, 'createdDate': '2023-01-31T00:46:53Z', 'projectName': 'Shopify Diggs', 'total': 361.13}, {'id': 78653, 'createdDate': '2023-01-31T00:09:00Z', 'projectName': 'Amazon Seller Diggs', 'total': 195.0}, {'id': 78642, 'createdDate': '2023-01-31T00:05:42Z', 'projectName': 'Shopify Diggs', 'total': 358.58}, {'id': 78640, 'createdDate': '2023-01-30T23:59:02Z', 'projectName': 'Shopify Diggs', 'total': 542.64}, {'id': 78641, 'createdDate': '2023-01-30T23:58:39Z', 'projectName': 'Shopify Diggs', 'total': 208.65}, {'id': 78639, 'createdDate': '2023-01-30T23:37:37Z', 'projectName': 'Shopify Diggs', 'total': 46.71}, {'id': 78636, 'createdDate': '2023-01-30T23:15:03Z', 'projectName': 'Shopify Diggs', 'total': 359.16}, {'id': 78638, 'createdDate': '2023-01-30T23:11:16Z', 'projectName': 'Shopify Diggs', 'total': 194.38}, {'id': 78635, 'createdDate': '2023-01-30T23:06:19Z', 'projectName': 'Shopify Diggs', 'total': 611.12}, {'id': 78633, 'createdDate': '2023-01-30T23:06:11Z', 'projectName': 'Shopify Diggs', 'total': 758.78}, {'id': 78634, 'createdDate': '2023-01-30T23:06:00Z', 'projectName': 'Shopify Diggs', 'total': 117.0}, {'id': 78632, 'createdDate': '2023-01-30T23:03:14Z', 'projectName': 'Shopify Diggs', 'total': 632.98}, {'id': 78637, 'createdDate': '2023-01-30T23:00:11Z', 'projectName': 'Shopify Diggs', 'total': 22.1}, {'id': 78630, 'createdDate': '2023-01-30T22:55:39Z', 'projectName': 'Shopify Diggs', 'total': 21.77}, {'id': 78631, 'createdDate': '2023-01-30T22:54:32Z', 'projectName': 'Shopify Diggs', 'total': 88.77}, {'id': 78628, 'createdDate': '2023-01-30T22:32:52Z', 'projectName': 'Shopify Diggs', 'total': 337.5}, {'id': 78627, 'createdDate': '2023-01-30T22:30:09Z', 'projectName': 'Shopify Diggs', 'total': 129.68}, {'id': 78626, 'createdDate': '2023-01-30T22:30:09Z', 'projectName': 'Shopify Diggs', 'total': 197.0}, {'id': 78629, 'createdDate': '2023-01-30T22:28:52Z', 'projectName': 'Shopify Diggs', 'total': 81.77}, {'id': 78625, 'createdDate': '2023-01-30T22:26:55Z', 'projectName': 'Shopify Diggs', 'total': 49.0}, {'id': 78624, 'createdDate': '2023-01-30T22:19:36Z', 'projectName': 'Shopify Diggs', 'total': 628.1}, {'id': 78622, 'createdDate': '2023-01-30T22:03:49Z', 'projectName': 'Shopify Diggs', 'total': 77.23}, {'id': 78621, 'createdDate': '2023-01-30T21:45:51Z', 'projectName': 'Shopify Diggs', 'total': 588.69}, {'id': 78620, 'createdDate': '2023-01-30T21:32:00Z', 'projectName': 'Shopify Diggs', 'total': 130.0}, {'id': 78619, 'createdDate': '2023-01-30T21:19:12Z', 'projectName': 'Shopify Diggs', 'total': 535.5}, {'id': 78618, 'createdDate': '2023-01-30T21:19:12Z', 'projectName': 'Shopify Diggs', 'total': 691.65}, {'id': 78617, 'createdDate': '2023-01-30T21:14:42Z', 'projectName': 'Shopify Diggs', 'total': 117.0}, {'id': 78614, 'createdDate': '2023-01-30T21:10:57Z', 'projectName': 'Shopify Diggs', 'total': 490.94}, {'id': 78615, 'createdDate': '2023-01-30T21:09:22Z', 'projectName': 'Shopify Diggs', 'total': 36.93}, {'id': 78616, 'createdDate': '2023-01-30T21:05:03Z', 'projectName': 'Shopify Diggs', 'total': 0.0}, {'id': 78612, 'createdDate': '2023-01-30T21:01:16Z', 'projectName': 'Shopify Diggs', 'total': 6.0}, {'id': 78613, 'createdDate': '2023-01-30T21:01:00Z', 'projectName': 'Shopify Diggs', 'total': 0.0}, {'id': 78611, 'createdDate': '2023-01-30T20:57:00Z', 'projectName': 'Shopify Diggs', 'total': 6.0}, {'id': 78609, 'createdDate': '2023-01-30T20:51:48Z', 'projectName': 'Shopify Diggs', 'total': 659.9}, {'id': 78610, 'createdDate': '2023-01-30T20:51:09Z', 'projectName': 'Shopify Diggs', 'total': 6.53}, {'id': 78606, 'createdDate': '2023-01-30T20:49:07Z', 'projectName': 'Shopify Diggs', 'total': 117.0}, {'id': 78605, 'createdDate': '2023-01-30T20:49:07Z', 'projectName': 'Shopify Diggs', 'total': 703.08}, {'id': 78604, 'createdDate': '2023-01-30T20:46:07Z', 'projectName': 'Shopify Diggs', 'total': 535.5}, {'id': 78607, 'createdDate': '2023-01-30T20:45:45Z', 'projectName': 'Shopify Diggs', 'total': 46.87}, {'id': 78603, 'createdDate': '2023-01-30T20:44:00Z', 'projectName': 'Warranty Replacements', 'total': 0.0}, {'id': 78608, 'createdDate': '2023-01-30T20:41:01Z', 'projectName': 'Shopify Diggs', 'total': 519.77}, {'id': 78602, 'createdDate': '2023-01-30T20:37:10Z', 'projectName': 'Shopify Diggs', 'total': 114.86}, {'id': 78596, 'createdDate': '2023-01-30T20:17:15Z', 'projectName': 'Shopify Diggs', 'total': 798.19}, {'id': 78595, 'createdDate': '2023-01-30T20:16:49Z', 'projectName': 'Shopify Diggs', 'total': 6.0}, {'id': 78592, 'createdDate': '2023-01-30T20:10:13Z', 'projectName': 'Shopify Diggs', 'total': 631.67}, {'id': 78593, 'createdDate': '2023-01-30T20:09:12Z', 'projectName': 'Shopify Diggs', 'total': 6.38}, {'id': 78589, 'createdDate': '2023-01-30T20:05:40Z', 'projectName': 'Shopify Diggs', 'total': 234.0}, {'id': 78588, 'createdDate': '2023-01-30T20:05:24Z', 'projectName': 'Shopify Diggs', 'total': 110.5}, {'id': 78587, 'createdDate': '2023-01-30T20:04:32Z', 'projectName': 'Shopify Diggs', 'total': 235.0}, {'id': 78586, 'createdDate': '2023-01-30T20:04:00Z', 'projectName': 'Shopify Diggs', 'total': 110.5}, {'id': 78584, 'createdDate': '2023-01-30T19:48:31Z', 'projectName': 'Shopify Diggs', 'total': 480.18}, {'id': 78585, 'createdDate': '2023-01-30T19:47:16Z', 'projectName': 'Shopify Diggs', 'total': 6.0}, {'id': 78583, 'createdDate': '2023-01-30T19:43:08Z', 'projectName': 'Shopify Diggs', 'total': 6.48}, {'id': 78582, 'createdDate': '2023-01-30T19:37:30Z', 'projectName': 'Shopify Diggs', 'total': 6.0}, {'id': 78580, 'createdDate': '2023-01-30T19:30:56Z', 'projectName': 'Shopify Diggs', 'total': 0.0}, {'id': 78581, 'createdDate': '2023-01-30T19:30:40Z', 'projectName': 'Shopify Diggs', 'total': 146.73}, {'id': 78578, 'createdDate': '2023-01-30T19:21:17Z', 'projectName': 'Shopify Diggs', 'total': 6.0}, {'id': 78579, 'createdDate': '2023-01-30T19:20:36Z', 'projectName': 'Shopify Diggs', 'total': 596.57}, {'id': 78577, 'createdDate': '2023-01-30T19:12:44Z', 'projectName': 'Shopify Diggs', 'total': 50.62}, {'id': 78575, 'createdDate': '2023-01-30T19:04:04Z', 'projectName': 'Shopify Diggs', 'total': 130.0}, {'id': 78576, 'createdDate': '2023-01-30T19:01:59Z', 'projectName': 'Shopify Diggs', 'total': 284.71}, {'id': 78574, 'createdDate': '2023-01-30T18:54:24Z', 'projectName': 'Shopify Diggs', 'total': 137.04}, {'id': 78573, 'createdDate': '2023-01-30T18:52:59Z', 'projectName': 'Shopify Diggs', 'total': 0.0}, {'id': 78572, 'createdDate': '2023-01-30T18:36:00Z', 'projectName': 'Shopify Diggs', 'total': 0.0}, {'id': 78571, 'createdDate': '2023-01-30T18:31:15Z', 'projectName': 'Shopify Diggs', 'total': 535.5}, {'id': 78570, 'createdDate': '2023-01-30T18:31:15Z', 'projectName': 'Shopify Diggs', 'total': 876.58}, {'id': 78569, 'createdDate': '2023-01-30T18:26:20Z', 'projectName': 'Shopify Diggs', 'total': 159.5}, {'id': 78567, 'createdDate': '2023-01-30T18:06:48Z', 'projectName': 'Shopify Diggs', 'total': 117.0}, {'id': 78566, 'createdDate': '2023-01-30T18:06:38Z', 'projectName': 'Shopify Diggs', 'total': 126.36}, {'id': 78565, 'createdDate': '2023-01-30T18:06:07Z', 'projectName': 'Shopify Diggs', 'total': 113.23}, {'id': 78564, 'createdDate': '2023-01-30T18:04:52Z', 'projectName': 'Shopify Diggs', 'total': 104.0}, {'id': 78568, 'createdDate': '2023-01-30T17:59:43Z', 'projectName': 'Shopify Diggs', 'total': 0.0}, {'id': 78562, 'createdDate': '2023-01-30T17:55:22Z', 'projectName': 'Shopify Diggs', 'total': 0.0}, {'id': 78561, 'createdDate': '2023-01-30T17:55:21Z', 'projectName': 'Shopify Diggs', 'total': 6.42}, {'id': 78558, 'createdDate': '2023-01-30T17:52:39Z', 'projectName': 'Shopify Diggs', 'total': 0.0}, {'id': 78559, 'createdDate': '2023-01-30T17:52:37Z', 'projectName': 'Shopify Diggs', 'total': 0.0}, {'id': 78560, 'createdDate': '2023-01-30T17:50:24Z', 'projectName': 'Shopify Diggs', 'total': 6.42}, {'id': 78563, 'createdDate': '2023-01-30T17:46:48Z', 'projectName': 'Shopify Diggs', 'total': 633.52}, {'id': 78556, 'createdDate': '2023-01-30T17:44:12Z', 'projectName': 'Shopify Diggs', 'total': 505.87}, {'id': 78557, 'createdDate': '2023-01-30T17:42:49Z', 'projectName': 'Shopify Diggs', 'total': 63.58}, {'id': 78555, 'createdDate': '2023-01-30T17:28:43Z', 'projectName': 'Shopify Diggs', 'total': 620.9}, {'id': 78554, 'createdDate': '2023-01-30T17:18:39Z', 'projectName': 'Shopify Diggs', 'total': 127.2}, {'id': 78553, 'createdDate': '2023-01-30T17:00:26Z', 'projectName': 'Shopify Diggs', 'total': 58.05}, {'id': 78552, 'createdDate': '2023-01-30T16:52:32Z', 'projectName': 'Shopify Diggs', 'total': 579.69}, {'id': 78551, 'createdDate': '2023-01-30T16:43:11Z', 'projectName': 'Shopify Diggs', 'total': 675.0}, {'id': 78550, 'createdDate': '2023-01-30T16:43:11Z', 'projectName': 'Shopify Diggs', 'total': 1407.24}, {'id': 78549, 'createdDate': '2023-01-30T16:38:55Z', 'projectName': 'Shopify Diggs', 'total': 631.0}, {'id': 78548, 'createdDate': '2023-01-30T16:33:42Z', 'projectName': 'Shopify Diggs', 'total': 56.76}, {'id': 78546, 'createdDate': '2023-01-30T16:27:33Z', 'projectName': 'Shopify Diggs', 'total': 817.01}, {'id': 78545, 'createdDate': '2023-01-30T16:25:12Z', 'projectName': 'Shopify Diggs', 'total': 150.0}, {'id': 78544, 'createdDate': '2023-01-30T16:25:12Z', 'projectName': 'Shopify Diggs', 'total': 784.57}, {'id': 78547, 'createdDate': '2023-01-30T16:24:00Z', 'projectName': 'Shopify Diggs', 'total': 40.0}, {'id': 78542, 'createdDate': '2023-01-30T16:17:34Z', 'projectName': 'Shopify Diggs', 'total': 246.98}, {'id': 78543, 'createdDate': '2023-01-30T16:17:00Z', 'projectName': 'Shopify Diggs', 'total': 577.13}, {'id': 78541, 'createdDate': '2023-01-30T16:08:19Z', 'projectName': 'Shopify Diggs', 'total': 6.42}, {'id': 78539, 'createdDate': '2023-01-30T16:04:15Z', 'projectName': 'Shopify Diggs', 'total': 606.87}, {'id': 78540, 'createdDate': '2023-01-30T15:59:37Z', 'projectName': 'Shopify Diggs', 'total': 587.35}, {'id': 78536, 'createdDate': '2023-01-30T15:33:19Z', 'projectName': 'Shopify Diggs', 'total': 117.0}, {'id': 78535, 'createdDate': '2023-01-30T15:33:19Z', 'projectName': 'Shopify Diggs', 'total': 693.28}, {'id': 78533, 'createdDate': '2023-01-30T15:27:27Z', 'projectName': 'Shopify Diggs', 'total': 599.74}, {'id': 78534, 'createdDate': '2023-01-30T15:26:50Z', 'projectName': 'Shopify Diggs', 'total': 535.5}, {'id': 78530, 'createdDate': '2023-01-30T14:50:44Z', 'projectName': 'Shopify Diggs', 'total': 405.94}]\n"
     ]
    }
   ],
   "source": [
    "import requests\n",
    "\n",
    "url = \"https://api.cin7.com/api/v1/SalesOrders\"\n",
    "query_params = {\n",
    "    \"rows\": 250,\n",
    "    \"where\": \"createdDate<2023-02-01T00:00:00Z and createdDate>2022-12-31T23:59:59Z\",\n",
    "    \"fields\": \"id,createdDate,projectName,total\"\n",
    "}\n",
    "\n",
    "headers = {\n",
    "    \"Content-Type\": \"application/json\"\n",
    "}\n",
    "\n",
    "auth = (\"DiggsIncUS\", \"9901f725991a42c4b8ea12917e3c21d9\")  # replace with your Cin7 username and password\n",
    "\n",
    "response = requests.get(url, headers=headers, params=query_params, auth=auth)\n",
    "\n",
    "if response.status_code == 200:\n",
    "    data = response.json()\n",
    "    print(data)\n",
    "else:\n",
    "    print(f\"Request failed with status code {response.status_code}\")\n"
   ]
  },
  {
   "cell_type": "code",
   "execution_count": null,
   "id": "d335ea92",
   "metadata": {},
   "outputs": [],
   "source": []
  },
  {
   "cell_type": "code",
   "execution_count": 18,
   "id": "6e10f83c",
   "metadata": {},
   "outputs": [
    {
     "name": "stdout",
     "output_type": "stream",
     "text": [
      "        id           createdDate          projectName   total\n",
      "0    78808  2023-01-31T23:57:15Z        Shopify Diggs  204.24\n",
      "1    78809  2023-01-31T23:56:06Z        Shopify Diggs  836.90\n",
      "2    78815  2023-01-31T23:48:27Z  Amazon Seller Diggs  195.00\n",
      "3    78807  2023-01-31T23:46:24Z        Shopify Diggs  464.65\n",
      "4    78806  2023-01-31T23:34:35Z        Shopify Diggs   44.13\n",
      "..     ...                   ...                  ...     ...\n",
      "245  78536  2023-01-30T15:33:19Z        Shopify Diggs  117.00\n",
      "246  78535  2023-01-30T15:33:19Z        Shopify Diggs  693.28\n",
      "247  78533  2023-01-30T15:27:27Z        Shopify Diggs  599.74\n",
      "248  78534  2023-01-30T15:26:50Z        Shopify Diggs  535.50\n",
      "249  78530  2023-01-30T14:50:44Z        Shopify Diggs  405.94\n",
      "\n",
      "[250 rows x 4 columns]\n",
      "[{\"id\":78808,\"createdDate\":\"2023-01-31T23:57:15Z\",\"projectName\":\"Shopify Diggs\",\"total\":204.24},{\"id\":78809,\"createdDate\":\"2023-01-31T23:56:06Z\",\"projectName\":\"Shopify Diggs\",\"total\":836.9},{\"id\":78815,\"createdDate\":\"2023-01-31T23:48:27Z\",\"projectName\":\"Amazon Seller Diggs\",\"total\":195.0},{\"id\":78807,\"createdDate\":\"2023-01-31T23:46:24Z\",\"projectName\":\"Shopify Diggs\",\"total\":464.65},{\"id\":78806,\"createdDate\":\"2023-01-31T23:34:35Z\",\"projectName\":\"Shopify Diggs\",\"total\":44.13},{\"id\":78805,\"createdDate\":\"2023-01-31T23:26:20Z\",\"projectName\":\"Shopify Diggs\",\"total\":32.04},{\"id\":78803,\"createdDate\":\"2023-01-31T23:21:33Z\",\"projectName\":\"Shopify Diggs\",\"total\":485.1},{\"id\":78802,\"createdDate\":\"2023-01-31T23:18:04Z\",\"projectName\":\"Shopify Diggs\",\"total\":624.35},{\"id\":78801,\"createdDate\":\"2023-01-31T22:55:57Z\",\"projectName\":\"Shopify Diggs\",\"total\":107.21},{\"id\":78800,\"createdDate\":\"2023-01-31T22:53:18Z\",\"projectName\":\"Shopify Diggs\",\"total\":167.44},{\"id\":78798,\"createdDate\":\"2023-01-31T22:42:52Z\",\"projectName\":\"Shopify Diggs\",\"total\":136.96},{\"id\":78799,\"createdDate\":\"2023-01-31T22:39:12Z\",\"projectName\":\"Shopify Diggs\",\"total\":825.78},{\"id\":78797,\"createdDate\":\"2023-01-31T22:19:23Z\",\"projectName\":\"Shopify Diggs\",\"total\":245.25},{\"id\":78796,\"createdDate\":\"2023-01-31T21:55:15Z\",\"projectName\":\"Shopify Diggs\",\"total\":938.99},{\"id\":78804,\"createdDate\":\"2023-01-31T21:50:09Z\",\"projectName\":\"Amazon Seller Diggs\",\"total\":195.0},{\"id\":78794,\"createdDate\":\"2023-01-31T21:41:52Z\",\"projectName\":\"Shopify Diggs\",\"total\":0.0},{\"id\":78795,\"createdDate\":\"2023-01-31T21:38:09Z\",\"projectName\":\"Shopify Diggs\",\"total\":6.42},{\"id\":78792,\"createdDate\":\"2023-01-31T21:34:59Z\",\"projectName\":\"Shopify Diggs\",\"total\":32.93},{\"id\":78793,\"createdDate\":\"2023-01-31T21:32:46Z\",\"projectName\":\"Shopify Diggs\",\"total\":639.38},{\"id\":78790,\"createdDate\":\"2023-01-31T21:31:16Z\",\"projectName\":\"Shopify Diggs\",\"total\":842.77},{\"id\":78785,\"createdDate\":\"2023-01-31T21:28:10Z\",\"projectName\":\"Shopify Diggs\",\"total\":70.61},{\"id\":78784,\"createdDate\":\"2023-01-31T21:28:10Z\",\"projectName\":\"Shopify Diggs\",\"total\":141.2},{\"id\":78791,\"createdDate\":\"2023-01-31T21:27:10Z\",\"projectName\":\"Shopify Diggs\",\"total\":31.29},{\"id\":78783,\"createdDate\":\"2023-01-31T21:24:57Z\",\"projectName\":\"Shopify Diggs\",\"total\":70.61},{\"id\":78786,\"createdDate\":\"2023-01-31T21:23:18Z\",\"projectName\":\"Shopify Diggs\",\"total\":65.7},{\"id\":78781,\"createdDate\":\"2023-01-31T21:06:17Z\",\"projectName\":\"Shopify Diggs\",\"total\":411.35},{\"id\":78782,\"createdDate\":\"2023-01-31T21:03:01Z\",\"projectName\":\"Shopify Diggs\",\"total\":938.99},{\"id\":78777,\"createdDate\":\"2023-01-31T21:02:43Z\",\"projectName\":\"Shopify Diggs\",\"total\":0.0},{\"id\":78778,\"createdDate\":\"2023-01-31T20:57:48Z\",\"projectName\":\"Shopify Diggs\",\"total\":315.13},{\"id\":78779,\"createdDate\":\"2023-01-31T20:57:09Z\",\"projectName\":\"Shopify Diggs\",\"total\":0.0},{\"id\":78780,\"createdDate\":\"2023-01-31T20:57:08Z\",\"projectName\":\"Shopify Diggs\",\"total\":0.0},{\"id\":78775,\"createdDate\":\"2023-01-31T20:54:03Z\",\"projectName\":\"Shopify Diggs\",\"total\":508.44},{\"id\":78776,\"createdDate\":\"2023-01-31T20:50:57Z\",\"projectName\":\"Shopify Diggs\",\"total\":842.77},{\"id\":78774,\"createdDate\":\"2023-01-31T20:44:29Z\",\"projectName\":\"Shopify Diggs\",\"total\":629.5},{\"id\":78773,\"createdDate\":\"2023-01-31T20:41:09Z\",\"projectName\":\"Shopify Diggs\",\"total\":590.39},{\"id\":78772,\"createdDate\":\"2023-01-31T20:35:19Z\",\"projectName\":\"Shopify Diggs\",\"total\":476.22},{\"id\":78771,\"createdDate\":\"2023-01-31T20:33:27Z\",\"projectName\":\"Shopify Diggs\",\"total\":0.0},{\"id\":78770,\"createdDate\":\"2023-01-31T20:33:18Z\",\"projectName\":\"Shopify Diggs\",\"total\":0.0},{\"id\":78769,\"createdDate\":\"2023-01-31T20:33:10Z\",\"projectName\":\"Shopify Diggs\",\"total\":0.0},{\"id\":78768,\"createdDate\":\"2023-01-31T20:32:57Z\",\"projectName\":\"Shopify Diggs\",\"total\":0.0},{\"id\":78767,\"createdDate\":\"2023-01-31T20:26:00Z\",\"projectName\":\"Influencers\",\"total\":0.0},{\"id\":78764,\"createdDate\":\"2023-01-31T20:24:00Z\",\"projectName\":\"Influencers\",\"total\":0.0},{\"id\":78765,\"createdDate\":\"2023-01-31T20:23:03Z\",\"projectName\":\"Shopify Diggs\",\"total\":653.07},{\"id\":78766,\"createdDate\":\"2023-01-31T20:22:12Z\",\"projectName\":\"Shopify Diggs\",\"total\":47.41},{\"id\":78763,\"createdDate\":\"2023-01-31T20:19:00Z\",\"projectName\":\"Influencers\",\"total\":12.0},{\"id\":78759,\"createdDate\":\"2023-01-31T19:52:34Z\",\"projectName\":\"Shopify Diggs\",\"total\":54.02},{\"id\":78754,\"createdDate\":\"2023-01-31T19:42:22Z\",\"projectName\":\"Shopify Diggs\",\"total\":9.85},{\"id\":78755,\"createdDate\":\"2023-01-31T19:38:25Z\",\"projectName\":\"Shopify Diggs\",\"total\":82.68},{\"id\":78752,\"createdDate\":\"2023-01-31T19:31:54Z\",\"projectName\":\"Shopify Diggs\",\"total\":94.91},{\"id\":78750,\"createdDate\":\"2023-01-31T19:30:10Z\",\"projectName\":\"Shopify Diggs\",\"total\":348.62},{\"id\":78751,\"createdDate\":\"2023-01-31T19:28:53Z\",\"projectName\":\"Shopify Diggs\",\"total\":476.12},{\"id\":78748,\"createdDate\":\"2023-01-31T19:24:04Z\",\"projectName\":\"Shopify Diggs\",\"total\":6.36},{\"id\":78747,\"createdDate\":\"2023-01-31T19:23:00Z\",\"projectName\":\"Influencers\",\"total\":0.0},{\"id\":78749,\"createdDate\":\"2023-01-31T19:21:33Z\",\"projectName\":\"Shopify Diggs\",\"total\":504.88},{\"id\":78746,\"createdDate\":\"2023-01-31T19:18:00Z\",\"projectName\":\"Influencers\",\"total\":-260.0},{\"id\":78745,\"createdDate\":\"2023-01-31T19:14:00Z\",\"projectName\":\"Influencers\",\"total\":0.0},{\"id\":78744,\"createdDate\":\"2023-01-31T19:09:00Z\",\"projectName\":\"Influencers\",\"total\":0.0},{\"id\":78741,\"createdDate\":\"2023-01-31T18:56:00Z\",\"projectName\":\"Influencers\",\"total\":0.0},{\"id\":78738,\"createdDate\":\"2023-01-31T18:55:52Z\",\"projectName\":\"Shopify Diggs\",\"total\":6.61},{\"id\":78739,\"createdDate\":\"2023-01-31T18:51:41Z\",\"projectName\":\"Shopify Diggs\",\"total\":64.68},{\"id\":78740,\"createdDate\":\"2023-01-31T18:50:37Z\",\"projectName\":\"Shopify Diggs\",\"total\":113.72},{\"id\":78737,\"createdDate\":\"2023-01-31T18:47:21Z\",\"projectName\":\"Shopify Diggs\",\"total\":381.18},{\"id\":78736,\"createdDate\":\"2023-01-31T18:35:00Z\",\"projectName\":\"Shopify Diggs\",\"total\":679.73},{\"id\":78735,\"createdDate\":\"2023-01-31T18:25:05Z\",\"projectName\":\"Shopify Diggs\",\"total\":148.85},{\"id\":78733,\"createdDate\":\"2023-01-31T18:17:16Z\",\"projectName\":\"Shopify Diggs\",\"total\":364.5},{\"id\":78732,\"createdDate\":\"2023-01-31T18:17:16Z\",\"projectName\":\"Shopify Diggs\",\"total\":473.36},{\"id\":78734,\"createdDate\":\"2023-01-31T18:16:44Z\",\"projectName\":\"Shopify Diggs\",\"total\":361.13},{\"id\":78731,\"createdDate\":\"2023-01-31T18:13:38Z\",\"projectName\":\"Shopify Diggs\",\"total\":108.86},{\"id\":78728,\"createdDate\":\"2023-01-31T17:43:18Z\",\"projectName\":\"Shopify Diggs\",\"total\":32.44},{\"id\":78729,\"createdDate\":\"2023-01-31T17:40:47Z\",\"projectName\":\"Shopify Diggs\",\"total\":592.09},{\"id\":78727,\"createdDate\":\"2023-01-31T17:25:53Z\",\"projectName\":\"Shopify Diggs\",\"total\":146.65},{\"id\":78725,\"createdDate\":\"2023-01-31T17:03:44Z\",\"projectName\":\"Shopify Diggs\",\"total\":95.15},{\"id\":78724,\"createdDate\":\"2023-01-31T17:03:00Z\",\"projectName\":\"Shopify Diggs\",\"total\":110.5},{\"id\":78726,\"createdDate\":\"2023-01-31T17:01:30Z\",\"projectName\":\"Shopify Diggs\",\"total\":164.73},{\"id\":78723,\"createdDate\":\"2023-01-31T17:00:16Z\",\"projectName\":\"Shopify Diggs\",\"total\":219.3},{\"id\":78722,\"createdDate\":\"2023-01-31T17:00:15Z\",\"projectName\":\"Shopify Diggs\",\"total\":793.05},{\"id\":78720,\"createdDate\":\"2023-01-31T16:55:00Z\",\"projectName\":\"Shopify Diggs\",\"total\":54.49},{\"id\":78721,\"createdDate\":\"2023-01-31T16:54:06Z\",\"projectName\":\"Shopify Diggs\",\"total\":573.75},{\"id\":78719,\"createdDate\":\"2023-01-31T16:31:31Z\",\"projectName\":\"Shopify Diggs\",\"total\":541.87},{\"id\":78717,\"createdDate\":\"2023-01-31T15:51:26Z\",\"projectName\":\"Shopify Diggs\",\"total\":57.73},{\"id\":78716,\"createdDate\":\"2023-01-31T15:46:57Z\",\"projectName\":\"Shopify Diggs\",\"total\":319.19},{\"id\":78714,\"createdDate\":\"2023-01-31T15:26:37Z\",\"projectName\":\"Shopify Diggs\",\"total\":55.0},{\"id\":78718,\"createdDate\":\"2023-01-31T15:26:00Z\",\"projectName\":\"Shopify Diggs\",\"total\":130.0},{\"id\":78715,\"createdDate\":\"2023-01-31T15:25:50Z\",\"projectName\":\"Shopify Diggs\",\"total\":46.07},{\"id\":78713,\"createdDate\":\"2023-01-31T15:20:17Z\",\"projectName\":\"Shopify Diggs\",\"total\":339.87},{\"id\":78712,\"createdDate\":\"2023-01-31T15:10:00Z\",\"projectName\":\"Shopify Diggs\",\"total\":22.26},{\"id\":78711,\"createdDate\":\"2023-01-31T15:09:26Z\",\"projectName\":\"Shopify Diggs\",\"total\":119.34},{\"id\":78710,\"createdDate\":\"2023-01-31T15:09:26Z\",\"projectName\":\"Shopify Diggs\",\"total\":764.71},{\"id\":78708,\"createdDate\":\"2023-01-31T15:05:30Z\",\"projectName\":\"Shopify Diggs\",\"total\":86.92},{\"id\":78709,\"createdDate\":\"2023-01-31T15:04:43Z\",\"projectName\":\"Shopify Diggs\",\"total\":645.35},{\"id\":78706,\"createdDate\":\"2023-01-31T14:42:47Z\",\"projectName\":\"Shopify Diggs\",\"total\":56.43},{\"id\":78704,\"createdDate\":\"2023-01-31T14:31:00Z\",\"projectName\":\"Shopify Diggs\",\"total\":0.0},{\"id\":78705,\"createdDate\":\"2023-01-31T14:28:16Z\",\"projectName\":\"Shopify Diggs\",\"total\":54.9},{\"id\":78702,\"createdDate\":\"2023-01-31T14:04:11Z\",\"projectName\":\"Shopify Diggs\",\"total\":395.63},{\"id\":78701,\"createdDate\":\"2023-01-31T13:51:45Z\",\"projectName\":\"Shopify Diggs\",\"total\":99.64},{\"id\":78699,\"createdDate\":\"2023-01-31T13:34:14Z\",\"projectName\":\"Shopify Diggs\",\"total\":825.0},{\"id\":78700,\"createdDate\":\"2023-01-31T13:34:07Z\",\"projectName\":\"Shopify Diggs\",\"total\":36.38},{\"id\":78698,\"createdDate\":\"2023-01-31T13:13:48Z\",\"projectName\":\"Shopify Diggs\",\"total\":687.61},{\"id\":78697,\"createdDate\":\"2023-01-31T12:59:36Z\",\"projectName\":\"Shopify Diggs\",\"total\":160.27},{\"id\":78696,\"createdDate\":\"2023-01-31T12:49:11Z\",\"projectName\":\"Shopify Diggs\",\"total\":59.0},{\"id\":78695,\"createdDate\":\"2023-01-31T12:37:19Z\",\"projectName\":\"Shopify Diggs\",\"total\":31.9},{\"id\":78694,\"createdDate\":\"2023-01-31T12:26:37Z\",\"projectName\":\"Shopify Diggs\",\"total\":86.92},{\"id\":78693,\"createdDate\":\"2023-01-31T12:21:14Z\",\"projectName\":\"Shopify Diggs\",\"total\":31.89},{\"id\":78692,\"createdDate\":\"2023-01-31T10:20:13Z\",\"projectName\":\"Shopify Diggs\",\"total\":498.94},{\"id\":78691,\"createdDate\":\"2023-01-31T09:55:02Z\",\"projectName\":\"Shopify Diggs\",\"total\":43.01},{\"id\":78689,\"createdDate\":\"2023-01-31T09:23:51Z\",\"projectName\":\"Shopify Diggs\",\"total\":147.66},{\"id\":78690,\"createdDate\":\"2023-01-31T09:21:38Z\",\"projectName\":\"Shopify Diggs\",\"total\":943.48},{\"id\":78687,\"createdDate\":\"2023-01-31T06:54:23Z\",\"projectName\":\"Shopify Diggs\",\"total\":87.9},{\"id\":78688,\"createdDate\":\"2023-01-31T06:52:07Z\",\"projectName\":\"Shopify Diggs\",\"total\":365.35},{\"id\":78685,\"createdDate\":\"2023-01-31T05:13:00Z\",\"projectName\":\"Shopify Diggs\",\"total\":23.91},{\"id\":78686,\"createdDate\":\"2023-01-31T05:06:03Z\",\"projectName\":\"Shopify Diggs\",\"total\":440.13},{\"id\":78730,\"createdDate\":\"2023-01-31T05:00:00Z\",\"projectName\":\"DSCO\",\"total\":381.72},{\"id\":78683,\"createdDate\":\"2023-01-31T04:55:50Z\",\"projectName\":\"Shopify Diggs\",\"total\":58.79},{\"id\":78684,\"createdDate\":\"2023-01-31T04:54:23Z\",\"projectName\":\"Shopify Diggs\",\"total\":567.9},{\"id\":78682,\"createdDate\":\"2023-01-31T04:40:00Z\",\"projectName\":\"Shopify Diggs\",\"total\":675.0},{\"id\":78681,\"createdDate\":\"2023-01-31T04:25:57Z\",\"projectName\":\"Shopify Diggs\",\"total\":342.96},{\"id\":78703,\"createdDate\":\"2023-01-31T04:25:00Z\",\"projectName\":\"Shopify Diggs\",\"total\":67.25},{\"id\":78679,\"createdDate\":\"2023-01-31T04:00:02Z\",\"projectName\":\"Shopify Diggs\",\"total\":856.51},{\"id\":78680,\"createdDate\":\"2023-01-31T03:59:46Z\",\"projectName\":\"Shopify Diggs\",\"total\":39.6},{\"id\":78678,\"createdDate\":\"2023-01-31T03:51:28Z\",\"projectName\":\"Shopify Diggs\",\"total\":36.23},{\"id\":78677,\"createdDate\":\"2023-01-31T03:48:15Z\",\"projectName\":\"Shopify Diggs\",\"total\":125.71},{\"id\":78676,\"createdDate\":\"2023-01-31T03:48:15Z\",\"projectName\":\"Shopify Diggs\",\"total\":782.63},{\"id\":78674,\"createdDate\":\"2023-01-31T03:41:13Z\",\"projectName\":\"Shopify Diggs\",\"total\":628.0},{\"id\":78675,\"createdDate\":\"2023-01-31T03:36:50Z\",\"projectName\":\"Shopify Diggs\",\"total\":608.29},{\"id\":78672,\"createdDate\":\"2023-01-31T03:08:40Z\",\"projectName\":\"Shopify Diggs\",\"total\":57.24},{\"id\":78673,\"createdDate\":\"2023-01-31T03:07:00Z\",\"projectName\":\"Shopify Diggs\",\"total\":57.16},{\"id\":78671,\"createdDate\":\"2023-01-31T03:02:41Z\",\"projectName\":\"Shopify Diggs\",\"total\":56.59},{\"id\":78670,\"createdDate\":\"2023-01-31T03:00:12Z\",\"projectName\":\"Shopify Diggs\",\"total\":318.75},{\"id\":78669,\"createdDate\":\"2023-01-31T02:53:12Z\",\"projectName\":\"Shopify Diggs\",\"total\":159.38},{\"id\":78668,\"createdDate\":\"2023-01-31T02:51:06Z\",\"projectName\":\"Shopify Diggs\",\"total\":607.5},{\"id\":78667,\"createdDate\":\"2023-01-31T02:51:06Z\",\"projectName\":\"Shopify Diggs\",\"total\":789.65},{\"id\":78666,\"createdDate\":\"2023-01-31T02:47:33Z\",\"projectName\":\"Shopify Diggs\",\"total\":135.0},{\"id\":78664,\"createdDate\":\"2023-01-31T02:27:54Z\",\"projectName\":\"Shopify Diggs\",\"total\":572.63},{\"id\":78665,\"createdDate\":\"2023-01-31T02:27:13Z\",\"projectName\":\"Shopify Diggs\",\"total\":462.78},{\"id\":78663,\"createdDate\":\"2023-01-31T02:11:58Z\",\"projectName\":\"Shopify Diggs\",\"total\":535.5},{\"id\":78662,\"createdDate\":\"2023-01-31T02:02:03Z\",\"projectName\":\"Shopify Diggs\",\"total\":160.13},{\"id\":78656,\"createdDate\":\"2023-01-31T01:49:34Z\",\"projectName\":\"Shopify Diggs\",\"total\":20.4},{\"id\":78654,\"createdDate\":\"2023-01-31T01:46:58Z\",\"projectName\":\"Shopify Diggs\",\"total\":57.7},{\"id\":78655,\"createdDate\":\"2023-01-31T01:42:19Z\",\"projectName\":\"Shopify Diggs\",\"total\":43.63},{\"id\":78652,\"createdDate\":\"2023-01-31T01:27:14Z\",\"projectName\":\"Shopify Diggs\",\"total\":505.75},{\"id\":78651,\"createdDate\":\"2023-01-31T01:27:14Z\",\"projectName\":\"Shopify Diggs\",\"total\":695.3},{\"id\":78649,\"createdDate\":\"2023-01-31T01:23:05Z\",\"projectName\":\"Shopify Diggs\",\"total\":423.79},{\"id\":78650,\"createdDate\":\"2023-01-31T01:21:26Z\",\"projectName\":\"Shopify Diggs\",\"total\":79.05},{\"id\":78648,\"createdDate\":\"2023-01-31T01:12:15Z\",\"projectName\":\"Shopify Diggs\",\"total\":581.69},{\"id\":78647,\"createdDate\":\"2023-01-31T01:09:34Z\",\"projectName\":\"Shopify Diggs\",\"total\":265.0},{\"id\":78645,\"createdDate\":\"2023-01-31T01:03:05Z\",\"projectName\":\"Shopify Diggs\",\"total\":361.19},{\"id\":78646,\"createdDate\":\"2023-01-31T01:03:00Z\",\"projectName\":\"Shopify Diggs\",\"total\":45.0},{\"id\":78644,\"createdDate\":\"2023-01-31T00:58:05Z\",\"projectName\":\"Shopify Diggs\",\"total\":284.85},{\"id\":78643,\"createdDate\":\"2023-01-31T00:46:53Z\",\"projectName\":\"Shopify Diggs\",\"total\":361.13},{\"id\":78653,\"createdDate\":\"2023-01-31T00:09:00Z\",\"projectName\":\"Amazon Seller Diggs\",\"total\":195.0},{\"id\":78642,\"createdDate\":\"2023-01-31T00:05:42Z\",\"projectName\":\"Shopify Diggs\",\"total\":358.58},{\"id\":78640,\"createdDate\":\"2023-01-30T23:59:02Z\",\"projectName\":\"Shopify Diggs\",\"total\":542.64},{\"id\":78641,\"createdDate\":\"2023-01-30T23:58:39Z\",\"projectName\":\"Shopify Diggs\",\"total\":208.65},{\"id\":78639,\"createdDate\":\"2023-01-30T23:37:37Z\",\"projectName\":\"Shopify Diggs\",\"total\":46.71},{\"id\":78636,\"createdDate\":\"2023-01-30T23:15:03Z\",\"projectName\":\"Shopify Diggs\",\"total\":359.16},{\"id\":78638,\"createdDate\":\"2023-01-30T23:11:16Z\",\"projectName\":\"Shopify Diggs\",\"total\":194.38},{\"id\":78635,\"createdDate\":\"2023-01-30T23:06:19Z\",\"projectName\":\"Shopify Diggs\",\"total\":611.12},{\"id\":78633,\"createdDate\":\"2023-01-30T23:06:11Z\",\"projectName\":\"Shopify Diggs\",\"total\":758.78},{\"id\":78634,\"createdDate\":\"2023-01-30T23:06:00Z\",\"projectName\":\"Shopify Diggs\",\"total\":117.0},{\"id\":78632,\"createdDate\":\"2023-01-30T23:03:14Z\",\"projectName\":\"Shopify Diggs\",\"total\":632.98},{\"id\":78637,\"createdDate\":\"2023-01-30T23:00:11Z\",\"projectName\":\"Shopify Diggs\",\"total\":22.1},{\"id\":78630,\"createdDate\":\"2023-01-30T22:55:39Z\",\"projectName\":\"Shopify Diggs\",\"total\":21.77},{\"id\":78631,\"createdDate\":\"2023-01-30T22:54:32Z\",\"projectName\":\"Shopify Diggs\",\"total\":88.77},{\"id\":78628,\"createdDate\":\"2023-01-30T22:32:52Z\",\"projectName\":\"Shopify Diggs\",\"total\":337.5},{\"id\":78627,\"createdDate\":\"2023-01-30T22:30:09Z\",\"projectName\":\"Shopify Diggs\",\"total\":129.68},{\"id\":78626,\"createdDate\":\"2023-01-30T22:30:09Z\",\"projectName\":\"Shopify Diggs\",\"total\":197.0},{\"id\":78629,\"createdDate\":\"2023-01-30T22:28:52Z\",\"projectName\":\"Shopify Diggs\",\"total\":81.77},{\"id\":78625,\"createdDate\":\"2023-01-30T22:26:55Z\",\"projectName\":\"Shopify Diggs\",\"total\":49.0},{\"id\":78624,\"createdDate\":\"2023-01-30T22:19:36Z\",\"projectName\":\"Shopify Diggs\",\"total\":628.1},{\"id\":78622,\"createdDate\":\"2023-01-30T22:03:49Z\",\"projectName\":\"Shopify Diggs\",\"total\":77.23},{\"id\":78621,\"createdDate\":\"2023-01-30T21:45:51Z\",\"projectName\":\"Shopify Diggs\",\"total\":588.69},{\"id\":78620,\"createdDate\":\"2023-01-30T21:32:00Z\",\"projectName\":\"Shopify Diggs\",\"total\":130.0},{\"id\":78619,\"createdDate\":\"2023-01-30T21:19:12Z\",\"projectName\":\"Shopify Diggs\",\"total\":535.5},{\"id\":78618,\"createdDate\":\"2023-01-30T21:19:12Z\",\"projectName\":\"Shopify Diggs\",\"total\":691.65},{\"id\":78617,\"createdDate\":\"2023-01-30T21:14:42Z\",\"projectName\":\"Shopify Diggs\",\"total\":117.0},{\"id\":78614,\"createdDate\":\"2023-01-30T21:10:57Z\",\"projectName\":\"Shopify Diggs\",\"total\":490.94},{\"id\":78615,\"createdDate\":\"2023-01-30T21:09:22Z\",\"projectName\":\"Shopify Diggs\",\"total\":36.93},{\"id\":78616,\"createdDate\":\"2023-01-30T21:05:03Z\",\"projectName\":\"Shopify Diggs\",\"total\":0.0},{\"id\":78612,\"createdDate\":\"2023-01-30T21:01:16Z\",\"projectName\":\"Shopify Diggs\",\"total\":6.0},{\"id\":78613,\"createdDate\":\"2023-01-30T21:01:00Z\",\"projectName\":\"Shopify Diggs\",\"total\":0.0},{\"id\":78611,\"createdDate\":\"2023-01-30T20:57:00Z\",\"projectName\":\"Shopify Diggs\",\"total\":6.0},{\"id\":78609,\"createdDate\":\"2023-01-30T20:51:48Z\",\"projectName\":\"Shopify Diggs\",\"total\":659.9},{\"id\":78610,\"createdDate\":\"2023-01-30T20:51:09Z\",\"projectName\":\"Shopify Diggs\",\"total\":6.53},{\"id\":78606,\"createdDate\":\"2023-01-30T20:49:07Z\",\"projectName\":\"Shopify Diggs\",\"total\":117.0},{\"id\":78605,\"createdDate\":\"2023-01-30T20:49:07Z\",\"projectName\":\"Shopify Diggs\",\"total\":703.08},{\"id\":78604,\"createdDate\":\"2023-01-30T20:46:07Z\",\"projectName\":\"Shopify Diggs\",\"total\":535.5},{\"id\":78607,\"createdDate\":\"2023-01-30T20:45:45Z\",\"projectName\":\"Shopify Diggs\",\"total\":46.87},{\"id\":78603,\"createdDate\":\"2023-01-30T20:44:00Z\",\"projectName\":\"Warranty Replacements\",\"total\":0.0},{\"id\":78608,\"createdDate\":\"2023-01-30T20:41:01Z\",\"projectName\":\"Shopify Diggs\",\"total\":519.77},{\"id\":78602,\"createdDate\":\"2023-01-30T20:37:10Z\",\"projectName\":\"Shopify Diggs\",\"total\":114.86},{\"id\":78596,\"createdDate\":\"2023-01-30T20:17:15Z\",\"projectName\":\"Shopify Diggs\",\"total\":798.19},{\"id\":78595,\"createdDate\":\"2023-01-30T20:16:49Z\",\"projectName\":\"Shopify Diggs\",\"total\":6.0},{\"id\":78592,\"createdDate\":\"2023-01-30T20:10:13Z\",\"projectName\":\"Shopify Diggs\",\"total\":631.67},{\"id\":78593,\"createdDate\":\"2023-01-30T20:09:12Z\",\"projectName\":\"Shopify Diggs\",\"total\":6.38},{\"id\":78589,\"createdDate\":\"2023-01-30T20:05:40Z\",\"projectName\":\"Shopify Diggs\",\"total\":234.0},{\"id\":78588,\"createdDate\":\"2023-01-30T20:05:24Z\",\"projectName\":\"Shopify Diggs\",\"total\":110.5},{\"id\":78587,\"createdDate\":\"2023-01-30T20:04:32Z\",\"projectName\":\"Shopify Diggs\",\"total\":235.0},{\"id\":78586,\"createdDate\":\"2023-01-30T20:04:00Z\",\"projectName\":\"Shopify Diggs\",\"total\":110.5},{\"id\":78584,\"createdDate\":\"2023-01-30T19:48:31Z\",\"projectName\":\"Shopify Diggs\",\"total\":480.18},{\"id\":78585,\"createdDate\":\"2023-01-30T19:47:16Z\",\"projectName\":\"Shopify Diggs\",\"total\":6.0},{\"id\":78583,\"createdDate\":\"2023-01-30T19:43:08Z\",\"projectName\":\"Shopify Diggs\",\"total\":6.48},{\"id\":78582,\"createdDate\":\"2023-01-30T19:37:30Z\",\"projectName\":\"Shopify Diggs\",\"total\":6.0},{\"id\":78580,\"createdDate\":\"2023-01-30T19:30:56Z\",\"projectName\":\"Shopify Diggs\",\"total\":0.0},{\"id\":78581,\"createdDate\":\"2023-01-30T19:30:40Z\",\"projectName\":\"Shopify Diggs\",\"total\":146.73},{\"id\":78578,\"createdDate\":\"2023-01-30T19:21:17Z\",\"projectName\":\"Shopify Diggs\",\"total\":6.0},{\"id\":78579,\"createdDate\":\"2023-01-30T19:20:36Z\",\"projectName\":\"Shopify Diggs\",\"total\":596.57},{\"id\":78577,\"createdDate\":\"2023-01-30T19:12:44Z\",\"projectName\":\"Shopify Diggs\",\"total\":50.62},{\"id\":78575,\"createdDate\":\"2023-01-30T19:04:04Z\",\"projectName\":\"Shopify Diggs\",\"total\":130.0},{\"id\":78576,\"createdDate\":\"2023-01-30T19:01:59Z\",\"projectName\":\"Shopify Diggs\",\"total\":284.71},{\"id\":78574,\"createdDate\":\"2023-01-30T18:54:24Z\",\"projectName\":\"Shopify Diggs\",\"total\":137.04},{\"id\":78573,\"createdDate\":\"2023-01-30T18:52:59Z\",\"projectName\":\"Shopify Diggs\",\"total\":0.0},{\"id\":78572,\"createdDate\":\"2023-01-30T18:36:00Z\",\"projectName\":\"Shopify Diggs\",\"total\":0.0},{\"id\":78571,\"createdDate\":\"2023-01-30T18:31:15Z\",\"projectName\":\"Shopify Diggs\",\"total\":535.5},{\"id\":78570,\"createdDate\":\"2023-01-30T18:31:15Z\",\"projectName\":\"Shopify Diggs\",\"total\":876.58},{\"id\":78569,\"createdDate\":\"2023-01-30T18:26:20Z\",\"projectName\":\"Shopify Diggs\",\"total\":159.5},{\"id\":78567,\"createdDate\":\"2023-01-30T18:06:48Z\",\"projectName\":\"Shopify Diggs\",\"total\":117.0},{\"id\":78566,\"createdDate\":\"2023-01-30T18:06:38Z\",\"projectName\":\"Shopify Diggs\",\"total\":126.36},{\"id\":78565,\"createdDate\":\"2023-01-30T18:06:07Z\",\"projectName\":\"Shopify Diggs\",\"total\":113.23},{\"id\":78564,\"createdDate\":\"2023-01-30T18:04:52Z\",\"projectName\":\"Shopify Diggs\",\"total\":104.0},{\"id\":78568,\"createdDate\":\"2023-01-30T17:59:43Z\",\"projectName\":\"Shopify Diggs\",\"total\":0.0},{\"id\":78562,\"createdDate\":\"2023-01-30T17:55:22Z\",\"projectName\":\"Shopify Diggs\",\"total\":0.0},{\"id\":78561,\"createdDate\":\"2023-01-30T17:55:21Z\",\"projectName\":\"Shopify Diggs\",\"total\":6.42},{\"id\":78558,\"createdDate\":\"2023-01-30T17:52:39Z\",\"projectName\":\"Shopify Diggs\",\"total\":0.0},{\"id\":78559,\"createdDate\":\"2023-01-30T17:52:37Z\",\"projectName\":\"Shopify Diggs\",\"total\":0.0},{\"id\":78560,\"createdDate\":\"2023-01-30T17:50:24Z\",\"projectName\":\"Shopify Diggs\",\"total\":6.42},{\"id\":78563,\"createdDate\":\"2023-01-30T17:46:48Z\",\"projectName\":\"Shopify Diggs\",\"total\":633.52},{\"id\":78556,\"createdDate\":\"2023-01-30T17:44:12Z\",\"projectName\":\"Shopify Diggs\",\"total\":505.87},{\"id\":78557,\"createdDate\":\"2023-01-30T17:42:49Z\",\"projectName\":\"Shopify Diggs\",\"total\":63.58},{\"id\":78555,\"createdDate\":\"2023-01-30T17:28:43Z\",\"projectName\":\"Shopify Diggs\",\"total\":620.9},{\"id\":78554,\"createdDate\":\"2023-01-30T17:18:39Z\",\"projectName\":\"Shopify Diggs\",\"total\":127.2},{\"id\":78553,\"createdDate\":\"2023-01-30T17:00:26Z\",\"projectName\":\"Shopify Diggs\",\"total\":58.05},{\"id\":78552,\"createdDate\":\"2023-01-30T16:52:32Z\",\"projectName\":\"Shopify Diggs\",\"total\":579.69},{\"id\":78551,\"createdDate\":\"2023-01-30T16:43:11Z\",\"projectName\":\"Shopify Diggs\",\"total\":675.0},{\"id\":78550,\"createdDate\":\"2023-01-30T16:43:11Z\",\"projectName\":\"Shopify Diggs\",\"total\":1407.24},{\"id\":78549,\"createdDate\":\"2023-01-30T16:38:55Z\",\"projectName\":\"Shopify Diggs\",\"total\":631.0},{\"id\":78548,\"createdDate\":\"2023-01-30T16:33:42Z\",\"projectName\":\"Shopify Diggs\",\"total\":56.76},{\"id\":78546,\"createdDate\":\"2023-01-30T16:27:33Z\",\"projectName\":\"Shopify Diggs\",\"total\":817.01},{\"id\":78545,\"createdDate\":\"2023-01-30T16:25:12Z\",\"projectName\":\"Shopify Diggs\",\"total\":150.0},{\"id\":78544,\"createdDate\":\"2023-01-30T16:25:12Z\",\"projectName\":\"Shopify Diggs\",\"total\":784.57},{\"id\":78547,\"createdDate\":\"2023-01-30T16:24:00Z\",\"projectName\":\"Shopify Diggs\",\"total\":40.0},{\"id\":78542,\"createdDate\":\"2023-01-30T16:17:34Z\",\"projectName\":\"Shopify Diggs\",\"total\":246.98},{\"id\":78543,\"createdDate\":\"2023-01-30T16:17:00Z\",\"projectName\":\"Shopify Diggs\",\"total\":577.13},{\"id\":78541,\"createdDate\":\"2023-01-30T16:08:19Z\",\"projectName\":\"Shopify Diggs\",\"total\":6.42},{\"id\":78539,\"createdDate\":\"2023-01-30T16:04:15Z\",\"projectName\":\"Shopify Diggs\",\"total\":606.87},{\"id\":78540,\"createdDate\":\"2023-01-30T15:59:37Z\",\"projectName\":\"Shopify Diggs\",\"total\":587.35},{\"id\":78536,\"createdDate\":\"2023-01-30T15:33:19Z\",\"projectName\":\"Shopify Diggs\",\"total\":117.0},{\"id\":78535,\"createdDate\":\"2023-01-30T15:33:19Z\",\"projectName\":\"Shopify Diggs\",\"total\":693.28},{\"id\":78533,\"createdDate\":\"2023-01-30T15:27:27Z\",\"projectName\":\"Shopify Diggs\",\"total\":599.74},{\"id\":78534,\"createdDate\":\"2023-01-30T15:26:50Z\",\"projectName\":\"Shopify Diggs\",\"total\":535.5},{\"id\":78530,\"createdDate\":\"2023-01-30T14:50:44Z\",\"projectName\":\"Shopify Diggs\",\"total\":405.94}]\n"
     ]
    }
   ],
   "source": [
    "import requests\n",
    "import pandas as pd\n",
    "\n",
    "url = \"https://api.cin7.com/api/v1/SalesOrders\"\n",
    "query_params = {\n",
    "    \"rows\": 250,\n",
    "    \"where\": \"createdDate<2023-02-01T00:00:00Z and createdDate>2022-12-31T23:59:59Z\",\n",
    "    \"fields\": \"id,createdDate,projectName,total\"\n",
    "}\n",
    "\n",
    "headers = {\n",
    "    \"Content-Type\": \"application/json\"\n",
    "}\n",
    "\n",
    "auth = (\"DiggsIncUS\", \"9901f725991a42c4b8ea12917e3c21d9\")  # replace with your Cin7 username and password\n",
    "\n",
    "response = requests.get(url, headers=headers, params=query_params, auth=auth)\n",
    "\n",
    "if response.status_code == 200:\n",
    "    data = response.json()\n",
    "    # Convert the list of dictionaries to a Pandas DataFrame\n",
    "    df = pd.DataFrame(data)\n",
    "    # Print the DataFrame as a table\n",
    "    print(df)\n",
    "    # Print the DataFrame as a JSON string\n",
    "    print(df.to_json(orient=\"records\"))\n",
    "else:\n",
    "    print(f\"Request failed with status code {response.status_code}\")\n"
   ]
  },
  {
   "cell_type": "code",
   "execution_count": 19,
   "id": "8ad2dc0d",
   "metadata": {},
   "outputs": [
    {
     "data": {
      "text/html": [
       "<div>\n",
       "<style scoped>\n",
       "    .dataframe tbody tr th:only-of-type {\n",
       "        vertical-align: middle;\n",
       "    }\n",
       "\n",
       "    .dataframe tbody tr th {\n",
       "        vertical-align: top;\n",
       "    }\n",
       "\n",
       "    .dataframe thead th {\n",
       "        text-align: right;\n",
       "    }\n",
       "</style>\n",
       "<table border=\"1\" class=\"dataframe\">\n",
       "  <thead>\n",
       "    <tr style=\"text-align: right;\">\n",
       "      <th></th>\n",
       "      <th>id</th>\n",
       "      <th>createdDate</th>\n",
       "      <th>projectName</th>\n",
       "      <th>total</th>\n",
       "    </tr>\n",
       "  </thead>\n",
       "  <tbody>\n",
       "    <tr>\n",
       "      <th>0</th>\n",
       "      <td>78808</td>\n",
       "      <td>2023-01-31T23:57:15Z</td>\n",
       "      <td>Shopify Diggs</td>\n",
       "      <td>204.24</td>\n",
       "    </tr>\n",
       "    <tr>\n",
       "      <th>1</th>\n",
       "      <td>78809</td>\n",
       "      <td>2023-01-31T23:56:06Z</td>\n",
       "      <td>Shopify Diggs</td>\n",
       "      <td>836.90</td>\n",
       "    </tr>\n",
       "    <tr>\n",
       "      <th>2</th>\n",
       "      <td>78815</td>\n",
       "      <td>2023-01-31T23:48:27Z</td>\n",
       "      <td>Amazon Seller Diggs</td>\n",
       "      <td>195.00</td>\n",
       "    </tr>\n",
       "    <tr>\n",
       "      <th>3</th>\n",
       "      <td>78807</td>\n",
       "      <td>2023-01-31T23:46:24Z</td>\n",
       "      <td>Shopify Diggs</td>\n",
       "      <td>464.65</td>\n",
       "    </tr>\n",
       "    <tr>\n",
       "      <th>4</th>\n",
       "      <td>78806</td>\n",
       "      <td>2023-01-31T23:34:35Z</td>\n",
       "      <td>Shopify Diggs</td>\n",
       "      <td>44.13</td>\n",
       "    </tr>\n",
       "  </tbody>\n",
       "</table>\n",
       "</div>"
      ],
      "text/plain": [
       "      id           createdDate          projectName   total\n",
       "0  78808  2023-01-31T23:57:15Z        Shopify Diggs  204.24\n",
       "1  78809  2023-01-31T23:56:06Z        Shopify Diggs  836.90\n",
       "2  78815  2023-01-31T23:48:27Z  Amazon Seller Diggs  195.00\n",
       "3  78807  2023-01-31T23:46:24Z        Shopify Diggs  464.65\n",
       "4  78806  2023-01-31T23:34:35Z        Shopify Diggs   44.13"
      ]
     },
     "execution_count": 19,
     "metadata": {},
     "output_type": "execute_result"
    }
   ],
   "source": [
    "df.head()"
   ]
  },
  {
   "cell_type": "code",
   "execution_count": 20,
   "id": "7039f031",
   "metadata": {},
   "outputs": [
    {
     "name": "stdout",
     "output_type": "stream",
     "text": [
      "projectName\n",
      "Amazon Seller Diggs        585.00\n",
      "DSCO                       381.72\n",
      "Influencers               -248.00\n",
      "Shopify Diggs            68442.67\n",
      "Warranty Replacements        0.00\n",
      "Name: total, dtype: float64\n"
     ]
    }
   ],
   "source": [
    "project_totals = df.groupby(\"projectName\").sum()[\"total\"]\n",
    "# Print the project totals as a table\n",
    "print(project_totals)\n",
    "\n",
    "# Print the project totals as a JSON string\n",
    "#    print(project_totals.to_json(orient=\"index\"))"
   ]
  },
  {
   "cell_type": "code",
   "execution_count": 21,
   "id": "cd81ef5b",
   "metadata": {},
   "outputs": [
    {
     "name": "stdout",
     "output_type": "stream",
     "text": [
      "Shopify Diggs            237\n",
      "Influencers                8\n",
      "Amazon Seller Diggs        3\n",
      "DSCO                       1\n",
      "Warranty Replacements      1\n",
      "Name: projectName, dtype: int64\n"
     ]
    }
   ],
   "source": [
    "df_retailersales_count=df.projectName.value_counts()\n",
    "print(df_retailersales_count)"
   ]
  },
  {
   "cell_type": "code",
   "execution_count": null,
   "id": "53bcafd9",
   "metadata": {},
   "outputs": [],
   "source": []
  },
  {
   "cell_type": "code",
   "execution_count": null,
   "id": "f0974139",
   "metadata": {},
   "outputs": [],
   "source": []
  },
  {
   "cell_type": "code",
   "execution_count": 25,
   "id": "93baffa4",
   "metadata": {},
   "outputs": [
    {
     "data": {
      "text/html": [
       "<div>\n",
       "<style scoped>\n",
       "    .dataframe tbody tr th:only-of-type {\n",
       "        vertical-align: middle;\n",
       "    }\n",
       "\n",
       "    .dataframe tbody tr th {\n",
       "        vertical-align: top;\n",
       "    }\n",
       "\n",
       "    .dataframe thead th {\n",
       "        text-align: right;\n",
       "    }\n",
       "</style>\n",
       "<table border=\"1\" class=\"dataframe\">\n",
       "  <thead>\n",
       "    <tr style=\"text-align: right;\">\n",
       "      <th></th>\n",
       "      <th>id</th>\n",
       "      <th>createdDate</th>\n",
       "      <th>projectName</th>\n",
       "      <th>total</th>\n",
       "    </tr>\n",
       "  </thead>\n",
       "  <tbody>\n",
       "    <tr>\n",
       "      <th>0</th>\n",
       "      <td>78808</td>\n",
       "      <td>2023-01-31T23:57:15Z</td>\n",
       "      <td>Shopify Diggs</td>\n",
       "      <td>204.24</td>\n",
       "    </tr>\n",
       "    <tr>\n",
       "      <th>1</th>\n",
       "      <td>78809</td>\n",
       "      <td>2023-01-31T23:56:06Z</td>\n",
       "      <td>Shopify Diggs</td>\n",
       "      <td>836.90</td>\n",
       "    </tr>\n",
       "    <tr>\n",
       "      <th>2</th>\n",
       "      <td>78815</td>\n",
       "      <td>2023-01-31T23:48:27Z</td>\n",
       "      <td>Amazon Seller Diggs</td>\n",
       "      <td>195.00</td>\n",
       "    </tr>\n",
       "    <tr>\n",
       "      <th>3</th>\n",
       "      <td>78807</td>\n",
       "      <td>2023-01-31T23:46:24Z</td>\n",
       "      <td>Shopify Diggs</td>\n",
       "      <td>464.65</td>\n",
       "    </tr>\n",
       "    <tr>\n",
       "      <th>4</th>\n",
       "      <td>78806</td>\n",
       "      <td>2023-01-31T23:34:35Z</td>\n",
       "      <td>Shopify Diggs</td>\n",
       "      <td>44.13</td>\n",
       "    </tr>\n",
       "  </tbody>\n",
       "</table>\n",
       "</div>"
      ],
      "text/plain": [
       "      id           createdDate          projectName   total\n",
       "0  78808  2023-01-31T23:57:15Z        Shopify Diggs  204.24\n",
       "1  78809  2023-01-31T23:56:06Z        Shopify Diggs  836.90\n",
       "2  78815  2023-01-31T23:48:27Z  Amazon Seller Diggs  195.00\n",
       "3  78807  2023-01-31T23:46:24Z        Shopify Diggs  464.65\n",
       "4  78806  2023-01-31T23:34:35Z        Shopify Diggs   44.13"
      ]
     },
     "execution_count": 25,
     "metadata": {},
     "output_type": "execute_result"
    }
   ],
   "source": [
    "import requests\n",
    "import pandas as pd\n",
    "\n",
    "url = \"https://api.cin7.com/api/v1/SalesOrders\"\n",
    "query_params = {\n",
    "    \"rows\": 250,\n",
    "    \"where\": \"createdDate<2023-02-01T00:00:00Z and createdDate>2022-12-31T23:59:59Z\",\n",
    "    \"fields\": \"id,createdDate,projectName,total\"\n",
    "}\n",
    "\n",
    "headers = {\n",
    "    \"Content-Type\": \"application/json\"\n",
    "}\n",
    "\n",
    "auth = (\"DiggsIncUS\", \"9901f725991a42c4b8ea12917e3c21d9\")  # replace with your Cin7 username and password\n",
    "\n",
    "data = []\n",
    "page = 1\n",
    "while True:\n",
    "    query_params[\"page\"] = page\n",
    "    response = requests.get(url, headers=headers, params=query_params, auth=auth)\n",
    "    if response.status_code == 200:\n",
    "        # Append the data from the current page to the list of data\n",
    "        data += response.json()\n",
    "        # Check if there are more pages of data to fetch\n",
    "        if len(response.json()) < 250:\n",
    "            break\n",
    "        else:\n",
    "            page += 1\n",
    "    else:\n",
    "        print(f\"Request failed with status code {response.status_code}\")\n",
    "        break\n",
    "\n",
    "        \n",
    "df.head()\n"
   ]
  },
  {
   "cell_type": "code",
   "execution_count": 26,
   "id": "409ca6d2",
   "metadata": {},
   "outputs": [
    {
     "name": "stdout",
     "output_type": "stream",
     "text": [
      "projectName\n",
      "                                 393.00\n",
      "Amazon Seller Diggs             4414.98\n",
      "Chewy                           2120.00\n",
      "DSCO                            1904.70\n",
      "Exceptions                       600.00\n",
      "Influencers                        3.00\n",
      "Maisonette                        14.00\n",
      "PetCo                           1906.11\n",
      "PetSmart                       23575.92\n",
      "PetSmartDS                      4983.41\n",
      "Product/R&D Samples              434.00\n",
      "Promo                              0.00\n",
      "Shopify Diggs                1240799.57\n",
      "Walmart Marketplace Diggs        950.00\n",
      "Warranty Replacements              0.00\n",
      "WayfairSFTP                      309.00\n",
      "Name: total, dtype: float64\n"
     ]
    }
   ],
   "source": [
    "# Convert the data to a Pandas DataFrame\n",
    "df = pd.DataFrame.from_records(data)\n",
    "# Sum the 'total' column by 'projectName'\n",
    "total_by_project = df.groupby('projectName')['total'].sum()\n",
    "# Print the result\n",
    "print(total_by_project)"
   ]
  },
  {
   "cell_type": "code",
   "execution_count": 31,
   "id": "820ce225",
   "metadata": {},
   "outputs": [
    {
     "name": "stdout",
     "output_type": "stream",
     "text": [
      "Shopify Diggs                4083\n",
      "Warranty Replacements          18\n",
      "PetSmartDS                     18\n",
      "Amazon Seller Diggs            16\n",
      "Influencers                    12\n",
      "PetSmart                       12\n",
      "DSCO                           11\n",
      "PetCo                          11\n",
      "                                9\n",
      "Product/R&D Samples             7\n",
      "Exceptions                      6\n",
      "Walmart Marketplace Diggs       3\n",
      "Promo                           2\n",
      "Chewy                           2\n",
      "Maisonette                      1\n",
      "WayfairSFTP                     1\n",
      "Name: projectName, dtype: int64\n"
     ]
    }
   ],
   "source": [
    "# COunt the column 'projectName'\n",
    "count_project = df.projectName.value_counts()\n",
    "# Print the result\n",
    "print(count_project)"
   ]
  },
  {
   "cell_type": "code",
   "execution_count": null,
   "id": "4384c6d0",
   "metadata": {},
   "outputs": [],
   "source": []
  }
 ],
 "metadata": {
  "kernelspec": {
   "display_name": "Python 3",
   "language": "python",
   "name": "python3"
  },
  "language_info": {
   "codemirror_mode": {
    "name": "ipython",
    "version": 3
   },
   "file_extension": ".py",
   "mimetype": "text/x-python",
   "name": "python",
   "nbconvert_exporter": "python",
   "pygments_lexer": "ipython3",
   "version": "3.8.8"
  }
 },
 "nbformat": 4,
 "nbformat_minor": 5
}
